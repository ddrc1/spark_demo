{
 "cells": [
  {
   "cell_type": "code",
   "execution_count": 4,
   "id": "dd67316c-7278-4820-acfc-287414488d9a",
   "metadata": {},
   "outputs": [],
   "source": [
    "import os\n",
    "import findspark\n",
    "findspark.init(os.getenv('SPARK_HOME'))\n",
    "from pyspark.sql import SparkSession\n",
    "from pyspark.ml.recommendation import ALS\n",
    "from pyspark.ml.evaluation import RegressionEvaluator"
   ]
  },
  {
   "cell_type": "code",
   "execution_count": 2,
   "id": "0f44fee6-d83f-4912-a1f0-c1a60442352c",
   "metadata": {},
   "outputs": [
    {
     "name": "stderr",
     "output_type": "stream",
     "text": [
      "Setting default log level to \"WARN\".\n",
      "To adjust logging level use sc.setLogLevel(newLevel). For SparkR, use setLogLevel(newLevel).\n"
     ]
    },
    {
     "name": "stdout",
     "output_type": "stream",
     "text": [
      "22/08/28 11:39:02 WARN NativeCodeLoader: Unable to load native-hadoop library for your platform... using builtin-java classes where applicable\n"
     ]
    }
   ],
   "source": [
    "spark = SparkSession.builder.appName('rec').getOrCreate()"
   ]
  },
  {
   "cell_type": "code",
   "execution_count": 6,
   "id": "febb42c4-2ba3-4576-9dbb-c1b9a19f73d4",
   "metadata": {},
   "outputs": [
    {
     "name": "stdout",
     "output_type": "stream",
     "text": [
      "+-------+------+------+\n",
      "|movieId|rating|userId|\n",
      "+-------+------+------+\n",
      "|      2|   3.0|     0|\n",
      "|      3|   1.0|     0|\n",
      "|      5|   2.0|     0|\n",
      "|      9|   4.0|     0|\n",
      "|     11|   1.0|     0|\n",
      "|     12|   2.0|     0|\n",
      "|     15|   1.0|     0|\n",
      "|     17|   1.0|     0|\n",
      "|     19|   1.0|     0|\n",
      "|     21|   1.0|     0|\n",
      "|     23|   1.0|     0|\n",
      "|     26|   3.0|     0|\n",
      "|     27|   1.0|     0|\n",
      "|     28|   1.0|     0|\n",
      "|     29|   1.0|     0|\n",
      "|     30|   1.0|     0|\n",
      "|     31|   1.0|     0|\n",
      "|     34|   1.0|     0|\n",
      "|     37|   1.0|     0|\n",
      "|     41|   2.0|     0|\n",
      "+-------+------+------+\n",
      "only showing top 20 rows\n",
      "\n"
     ]
    }
   ],
   "source": [
    "data = spark.read.csv('movielens_ratings.csv', inferSchema=True, header=True)\n",
    "data.show()"
   ]
  },
  {
   "cell_type": "code",
   "execution_count": 7,
   "id": "1b7845b0-c794-4ea1-937d-f04c8142c4a2",
   "metadata": {},
   "outputs": [
    {
     "name": "stdout",
     "output_type": "stream",
     "text": [
      "+-------+------------------+------------------+------------------+\n",
      "|summary|           movieId|            rating|            userId|\n",
      "+-------+------------------+------------------+------------------+\n",
      "|  count|              1501|              1501|              1501|\n",
      "|   mean| 49.40572951365756|1.7741505662891406|14.383744170552964|\n",
      "| stddev|28.937034065088994| 1.187276166124803| 8.591040424293272|\n",
      "|    min|                 0|               1.0|                 0|\n",
      "|    max|                99|               5.0|                29|\n",
      "+-------+------------------+------------------+------------------+\n",
      "\n"
     ]
    }
   ],
   "source": [
    "data.describe().show()"
   ]
  },
  {
   "cell_type": "code",
   "execution_count": 8,
   "id": "475a9172-335d-4a90-8db4-f473d7be6b8d",
   "metadata": {},
   "outputs": [],
   "source": [
    "train, test = data.randomSplit([0.8, 0.2])"
   ]
  },
  {
   "cell_type": "code",
   "execution_count": 9,
   "id": "d1d2b97b-7490-4880-af39-06ff700f3189",
   "metadata": {},
   "outputs": [],
   "source": [
    "als = ALS(maxIter=5, regParam=0.01, userCol='userId', itemCol='movieId', ratingCol='rating')"
   ]
  },
  {
   "cell_type": "code",
   "execution_count": 10,
   "id": "a3e7d101-ef8d-4f46-ae68-620b6b161432",
   "metadata": {},
   "outputs": [],
   "source": [
    "model = als.fit(train)"
   ]
  },
  {
   "cell_type": "code",
   "execution_count": 12,
   "id": "965f91c7-dfc8-4785-8c00-0d2424c45a44",
   "metadata": {},
   "outputs": [
    {
     "name": "stdout",
     "output_type": "stream",
     "text": [
      "+-------+------+------+------------+\n",
      "|movieId|rating|userId|  prediction|\n",
      "+-------+------+------+------------+\n",
      "|      2|   1.0|    12|   0.9086098|\n",
      "|      7|   3.0|    12|   1.0254602|\n",
      "|      0|   1.0|    22|  0.15354495|\n",
      "|      3|   1.0|     1|    0.408868|\n",
      "|      5|   1.0|    13|   0.6600409|\n",
      "|      9|   1.0|    16|   1.6326547|\n",
      "|      7|   3.0|     3|  -0.6575712|\n",
      "|      1|   1.0|    20|-0.018660307|\n",
      "|      6|   1.0|    20|   1.9401929|\n",
      "|      0|   1.0|     5|   0.6995617|\n",
      "|      8|   1.0|     5|   -1.817919|\n",
      "|      0|   1.0|    19|  0.48305404|\n",
      "|      9|   1.0|     9|   3.6664171|\n",
      "|      0|   1.0|     8|  0.98978734|\n",
      "|      0|   1.0|    23|   1.6877067|\n",
      "|      1|   1.0|     7| -0.67230934|\n",
      "|      4|   1.0|    24|    2.669012|\n",
      "|      0|   1.0|    11|   3.5645177|\n",
      "|      9|   1.0|    14|  -1.5549853|\n",
      "|      5|   2.0|    18|    1.830044|\n",
      "+-------+------+------+------------+\n",
      "only showing top 20 rows\n",
      "\n"
     ]
    }
   ],
   "source": [
    "predictions = model.transform(test)\n",
    "predictions.show()"
   ]
  },
  {
   "cell_type": "code",
   "execution_count": 13,
   "id": "b1e35b58-8ede-4252-8195-7e97a37ad2c4",
   "metadata": {},
   "outputs": [],
   "source": [
    "evaluator = RegressionEvaluator(metricName='rmse', labelCol='rating', predictionCol='prediction')\n",
    "rmse_eval = evaluator.evaluate(predictions)"
   ]
  },
  {
   "cell_type": "code",
   "execution_count": 14,
   "id": "61518e47-4b25-458d-8166-e24bc507b665",
   "metadata": {},
   "outputs": [
    {
     "data": {
      "text/plain": [
       "1.806499427805494"
      ]
     },
     "execution_count": 14,
     "metadata": {},
     "output_type": "execute_result"
    }
   ],
   "source": [
    "rmse_eval"
   ]
  },
  {
   "cell_type": "code",
   "execution_count": 18,
   "id": "baf27b72-a9a1-4b00-975b-58ae83b542f9",
   "metadata": {},
   "outputs": [
    {
     "name": "stdout",
     "output_type": "stream",
     "text": [
      "+-------+------+\n",
      "|movieId|userId|\n",
      "+-------+------+\n",
      "|      0|    11|\n",
      "|     16|    11|\n",
      "|     19|    11|\n",
      "|     32|    11|\n",
      "|     47|    11|\n",
      "|     50|    11|\n",
      "|     76|    11|\n",
      "|     78|    11|\n",
      "|     79|    11|\n",
      "|     89|    11|\n",
      "+-------+------+\n",
      "\n"
     ]
    }
   ],
   "source": [
    "user = test.filter(test['userId'] == 11).select('movieId', 'userId')\n",
    "user.show()"
   ]
  },
  {
   "cell_type": "code",
   "execution_count": 22,
   "id": "c4eeb181-fe27-4733-b97e-af0e414c2f5b",
   "metadata": {},
   "outputs": [
    {
     "name": "stdout",
     "output_type": "stream",
     "text": [
      "+-------+------+----------+\n",
      "|movieId|userId|prediction|\n",
      "+-------+------+----------+\n",
      "|      0|    11| 3.5645177|\n",
      "|     89|    11|  3.424339|\n",
      "|     76|    11| 2.6862948|\n",
      "|     16|    11| 2.6703348|\n",
      "|     78|    11| 1.2480321|\n",
      "|     19|    11| 1.0203769|\n",
      "|     50|    11| 0.9146455|\n",
      "|     79|    11|0.62460893|\n",
      "|     47|    11|0.02556789|\n",
      "|     32|    11|-1.3498268|\n",
      "+-------+------+----------+\n",
      "\n"
     ]
    }
   ],
   "source": [
    "recommendations = model.transform(user)\n",
    "recommendations.orderBy('prediction', ascending=False).show()"
   ]
  },
  {
   "cell_type": "code",
   "execution_count": null,
   "id": "8cbaa38c-8d57-4864-8656-e618d44648d3",
   "metadata": {},
   "outputs": [],
   "source": []
  }
 ],
 "metadata": {
  "kernelspec": {
   "display_name": "Python 3 (ipykernel)",
   "language": "python",
   "name": "python3"
  },
  "language_info": {
   "codemirror_mode": {
    "name": "ipython",
    "version": 3
   },
   "file_extension": ".py",
   "mimetype": "text/x-python",
   "name": "python",
   "nbconvert_exporter": "python",
   "pygments_lexer": "ipython3",
   "version": "3.10.4"
  }
 },
 "nbformat": 4,
 "nbformat_minor": 5
}
