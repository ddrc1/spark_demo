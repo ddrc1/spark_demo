{
 "cells": [
  {
   "cell_type": "code",
   "execution_count": 65,
   "id": "12d63656",
   "metadata": {},
   "outputs": [],
   "source": [
    "import os\n",
    "import findspark\n",
    "findspark.init(os.getenv('SPARK_HOME'))\n",
    "from pyspark.sql import SparkSession\n",
    "from pyspark.ml.regression import LinearRegression"
   ]
  },
  {
   "cell_type": "code",
   "execution_count": 66,
   "id": "26988e05",
   "metadata": {},
   "outputs": [],
   "source": [
    "spark = SparkSession.builder.appName(\"lrex\").getOrCreate()"
   ]
  },
  {
   "cell_type": "code",
   "execution_count": 67,
   "id": "4ac69a4a",
   "metadata": {},
   "outputs": [
    {
     "name": "stderr",
     "output_type": "stream",
     "text": [
      "22/08/12 15:09:10 WARN LibSVMFileFormat: 'numFeatures' option not specified, determining the number of features by going though the input. If you know the number in advance, please specify it via 'numFeatures' option to avoid the extra scan.\n"
     ]
    },
    {
     "name": "stdout",
     "output_type": "stream",
     "text": [
      "+-------------------+--------------------+\n",
      "|              label|            features|\n",
      "+-------------------+--------------------+\n",
      "| -9.490009878824548|(10,[0,1,2,3,4,5,...|\n",
      "| 0.2577820163584905|(10,[0,1,2,3,4,5,...|\n",
      "| -4.438869807456516|(10,[0,1,2,3,4,5,...|\n",
      "|-19.782762789614537|(10,[0,1,2,3,4,5,...|\n",
      "| -7.966593841555266|(10,[0,1,2,3,4,5,...|\n",
      "| -7.896274316726144|(10,[0,1,2,3,4,5,...|\n",
      "| -8.464803554195287|(10,[0,1,2,3,4,5,...|\n",
      "| 2.1214592666251364|(10,[0,1,2,3,4,5,...|\n",
      "| 1.0720117616524107|(10,[0,1,2,3,4,5,...|\n",
      "|-13.772441561702871|(10,[0,1,2,3,4,5,...|\n",
      "| -5.082010756207233|(10,[0,1,2,3,4,5,...|\n",
      "|  7.887786536531237|(10,[0,1,2,3,4,5,...|\n",
      "| 14.323146365332388|(10,[0,1,2,3,4,5,...|\n",
      "|-20.057482615789212|(10,[0,1,2,3,4,5,...|\n",
      "|-0.8995693247765151|(10,[0,1,2,3,4,5,...|\n",
      "| -19.16829262296376|(10,[0,1,2,3,4,5,...|\n",
      "|  5.601801561245534|(10,[0,1,2,3,4,5,...|\n",
      "|-3.2256352187273354|(10,[0,1,2,3,4,5,...|\n",
      "| 1.5299675726687754|(10,[0,1,2,3,4,5,...|\n",
      "| -0.250102447941961|(10,[0,1,2,3,4,5,...|\n",
      "+-------------------+--------------------+\n",
      "only showing top 20 rows\n",
      "\n"
     ]
    }
   ],
   "source": [
    "train = spark.read.format(\"libsvm\").load(\"sample_linear_regression_data.txt\")\n",
    "train.show()"
   ]
  },
  {
   "cell_type": "code",
   "execution_count": 68,
   "id": "2a99787a",
   "metadata": {},
   "outputs": [],
   "source": [
    "lr = LinearRegression(featuresCol=\"features\", labelCol=\"label\", predictionCol=\"prediction\")"
   ]
  },
  {
   "cell_type": "code",
   "execution_count": 69,
   "id": "ecb06e93",
   "metadata": {},
   "outputs": [
    {
     "name": "stderr",
     "output_type": "stream",
     "text": [
      "22/08/12 15:09:11 WARN Instrumentation: [970256ad] regParam is zero, which might cause numerical instability and overfitting.\n"
     ]
    }
   ],
   "source": [
    "lrModel = lr.fit(train)"
   ]
  },
  {
   "cell_type": "code",
   "execution_count": 70,
   "id": "b8220c43",
   "metadata": {},
   "outputs": [
    {
     "data": {
      "text/plain": [
       "DenseVector([0.0073, 0.8314, -0.8095, 2.4412, 0.5192, 1.1535, -0.2989, -0.5129, -0.6197, 0.6956])"
      ]
     },
     "execution_count": 70,
     "metadata": {},
     "output_type": "execute_result"
    }
   ],
   "source": [
    "lrModel.coefficients"
   ]
  },
  {
   "cell_type": "code",
   "execution_count": 71,
   "id": "c1e9e57e",
   "metadata": {},
   "outputs": [
    {
     "data": {
      "text/plain": [
       "0.14228558260358096"
      ]
     },
     "execution_count": 71,
     "metadata": {},
     "output_type": "execute_result"
    }
   ],
   "source": [
    "lrModel.intercept"
   ]
  },
  {
   "cell_type": "code",
   "execution_count": 72,
   "id": "c5a3cdc4",
   "metadata": {},
   "outputs": [],
   "source": [
    "train_summary = lrModel.summary"
   ]
  },
  {
   "cell_type": "code",
   "execution_count": 73,
   "id": "3b769589",
   "metadata": {},
   "outputs": [
    {
     "data": {
      "text/plain": [
       "(0.027839179518600154,\n",
       " 10.16309157133015,\n",
       " 103.28843028724194,\n",
       " 8.145215527783876)"
      ]
     },
     "execution_count": 73,
     "metadata": {},
     "output_type": "execute_result"
    }
   ],
   "source": [
    "train_summary.r2, train_summary.rootMeanSquaredError, train_summary.meanSquaredError, train_summary.meanAbsoluteError"
   ]
  },
  {
   "cell_type": "code",
   "execution_count": 74,
   "id": "e96f71f1",
   "metadata": {},
   "outputs": [
    {
     "name": "stderr",
     "output_type": "stream",
     "text": [
      "22/08/12 15:09:13 WARN LibSVMFileFormat: 'numFeatures' option not specified, determining the number of features by going though the input. If you know the number in advance, please specify it via 'numFeatures' option to avoid the extra scan.\n"
     ]
    }
   ],
   "source": [
    "all_data = spark.read.format(\"libsvm\").load(\"sample_linear_regression_data.txt\")\n",
    "train, test = all_data.randomSplit([0.85, 0.15])"
   ]
  },
  {
   "cell_type": "code",
   "execution_count": 75,
   "id": "462ea1d2",
   "metadata": {},
   "outputs": [
    {
     "name": "stdout",
     "output_type": "stream",
     "text": [
      "+-------+-------------------+\n",
      "|summary|              label|\n",
      "+-------+-------------------+\n",
      "|  count|                426|\n",
      "|   mean| 0.4988886547410205|\n",
      "| stddev| 10.324168874923872|\n",
      "|    min|-28.571478869743427|\n",
      "|    max|  27.78383192005107|\n",
      "+-------+-------------------+\n",
      "\n",
      "+-------+-------------------+\n",
      "|summary|              label|\n",
      "+-------+-------------------+\n",
      "|  count|                 75|\n",
      "|   mean|-1.1176702266664653|\n",
      "| stddev| 10.242079671544493|\n",
      "|    min|-28.046018037776633|\n",
      "|    max| 27.111027963108548|\n",
      "+-------+-------------------+\n",
      "\n"
     ]
    }
   ],
   "source": [
    "train.describe().show()\n",
    "test.describe().show()"
   ]
  },
  {
   "cell_type": "code",
   "execution_count": 76,
   "id": "6a0bdc24",
   "metadata": {},
   "outputs": [
    {
     "name": "stderr",
     "output_type": "stream",
     "text": [
      "22/08/12 15:09:14 WARN Instrumentation: [15dfa6ed] regParam is zero, which might cause numerical instability and overfitting.\n"
     ]
    }
   ],
   "source": [
    "correct_model = lr.fit(train)"
   ]
  },
  {
   "cell_type": "code",
   "execution_count": 77,
   "id": "bcd2714d",
   "metadata": {},
   "outputs": [],
   "source": [
    "test_results = correct_model.evaluate(test)"
   ]
  },
  {
   "cell_type": "code",
   "execution_count": 78,
   "id": "32b49ce8",
   "metadata": {},
   "outputs": [
    {
     "name": "stdout",
     "output_type": "stream",
     "text": [
      "+-------------------+\n",
      "|          residuals|\n",
      "+-------------------+\n",
      "|-27.021328751219254|\n",
      "| -22.15181474182574|\n",
      "|-21.250237281801724|\n",
      "|-15.953050696294376|\n",
      "|-17.852037714360545|\n",
      "|-18.855318225440328|\n",
      "|-15.329101106684911|\n",
      "| -16.56833152214717|\n",
      "|-15.450383884022568|\n",
      "|-14.002603052043648|\n",
      "|-13.760579074178464|\n",
      "| -14.92715487127733|\n",
      "| -7.650983452579414|\n",
      "| -10.70048686393485|\n",
      "| -7.030742360491198|\n",
      "| -8.808054481439154|\n",
      "|-10.086263982601125|\n",
      "| -6.609471570970441|\n",
      "|  -9.21112230013844|\n",
      "| -9.768025492946204|\n",
      "+-------------------+\n",
      "only showing top 20 rows\n",
      "\n"
     ]
    },
    {
     "name": "stderr",
     "output_type": "stream",
     "text": [
      "/opt/spark/python/pyspark/sql/context.py:125: FutureWarning: Deprecated in 3.0.0. Use SparkSession.builder.getOrCreate() instead.\n",
      "  warnings.warn(\n"
     ]
    }
   ],
   "source": [
    "test_results.residuals.show()"
   ]
  },
  {
   "cell_type": "code",
   "execution_count": 79,
   "id": "3d6c1eba",
   "metadata": {},
   "outputs": [
    {
     "data": {
      "text/plain": [
       "(0.006323623538848411,\n",
       " 10.141352080843342,\n",
       " 102.84702202762558,\n",
       " 7.98643613917675)"
      ]
     },
     "execution_count": 79,
     "metadata": {},
     "output_type": "execute_result"
    }
   ],
   "source": [
    "test_results.r2, test_results.rootMeanSquaredError, test_results.meanSquaredError, test_results.meanAbsoluteError"
   ]
  },
  {
   "cell_type": "code",
   "execution_count": 82,
   "id": "75b5c147",
   "metadata": {},
   "outputs": [],
   "source": [
    "unlabeled_data = test.select(\"features\")"
   ]
  },
  {
   "cell_type": "code",
   "execution_count": 84,
   "id": "18bc4285",
   "metadata": {},
   "outputs": [
    {
     "name": "stdout",
     "output_type": "stream",
     "text": [
      "+--------------------+\n",
      "|            features|\n",
      "+--------------------+\n",
      "|(10,[0,1,2,3,4,5,...|\n",
      "|(10,[0,1,2,3,4,5,...|\n",
      "|(10,[0,1,2,3,4,5,...|\n",
      "|(10,[0,1,2,3,4,5,...|\n",
      "|(10,[0,1,2,3,4,5,...|\n",
      "|(10,[0,1,2,3,4,5,...|\n",
      "|(10,[0,1,2,3,4,5,...|\n",
      "|(10,[0,1,2,3,4,5,...|\n",
      "|(10,[0,1,2,3,4,5,...|\n",
      "|(10,[0,1,2,3,4,5,...|\n",
      "|(10,[0,1,2,3,4,5,...|\n",
      "|(10,[0,1,2,3,4,5,...|\n",
      "|(10,[0,1,2,3,4,5,...|\n",
      "|(10,[0,1,2,3,4,5,...|\n",
      "|(10,[0,1,2,3,4,5,...|\n",
      "|(10,[0,1,2,3,4,5,...|\n",
      "|(10,[0,1,2,3,4,5,...|\n",
      "|(10,[0,1,2,3,4,5,...|\n",
      "|(10,[0,1,2,3,4,5,...|\n",
      "|(10,[0,1,2,3,4,5,...|\n",
      "+--------------------+\n",
      "only showing top 20 rows\n",
      "\n"
     ]
    }
   ],
   "source": [
    "unlabeled_data.show()"
   ]
  },
  {
   "cell_type": "code",
   "execution_count": 85,
   "id": "ceffe11c",
   "metadata": {},
   "outputs": [],
   "source": [
    "predictions = correct_model.transform(unlabeled_data)"
   ]
  },
  {
   "cell_type": "code",
   "execution_count": 86,
   "id": "262c1205",
   "metadata": {},
   "outputs": [
    {
     "name": "stdout",
     "output_type": "stream",
     "text": [
      "+--------------------+-------------------+\n",
      "|            features|         prediction|\n",
      "+--------------------+-------------------+\n",
      "|(10,[0,1,2,3,4,5,...|-1.0246892865573785|\n",
      "|(10,[0,1,2,3,4,5,...|  2.094332126036525|\n",
      "|(10,[0,1,2,3,4,5,...|  1.377246243733316|\n",
      "|(10,[0,1,2,3,4,5,...|-1.5411496605889676|\n",
      "|(10,[0,1,2,3,4,5,...| 0.7866380884845297|\n",
      "|(10,[0,1,2,3,4,5,...|  2.163111204129222|\n",
      "|(10,[0,1,2,3,4,5,...|-0.8222482445922006|\n",
      "|(10,[0,1,2,3,4,5,...| 0.6168189563525955|\n",
      "|(10,[0,1,2,3,4,5,...| 0.0745261607102708|\n",
      "|(10,[0,1,2,3,4,5,...|-1.3462681033356045|\n",
      "|(10,[0,1,2,3,4,5,...| 1.2020032853222755|\n",
      "|(10,[0,1,2,3,4,5,...| 3.0489873713104885|\n",
      "|(10,[0,1,2,3,4,5,...| -2.390369660001042|\n",
      "|(10,[0,1,2,3,4,5,...| 1.0527620092708005|\n",
      "|(10,[0,1,2,3,4,5,...|-2.2682794936348984|\n",
      "|(10,[0,1,2,3,4,5,...|-0.1840011595091155|\n",
      "|(10,[0,1,2,3,4,5,...|  1.577600582046262|\n",
      "|(10,[0,1,2,3,4,5,...|-0.8719337004847976|\n",
      "|(10,[0,1,2,3,4,5,...| 1.8365013299912105|\n",
      "|(10,[0,1,2,3,4,5,...| 2.6179263341334784|\n",
      "+--------------------+-------------------+\n",
      "only showing top 20 rows\n",
      "\n"
     ]
    }
   ],
   "source": [
    "predictions.show()"
   ]
  },
  {
   "cell_type": "code",
   "execution_count": null,
   "id": "4bdb5a64",
   "metadata": {},
   "outputs": [],
   "source": []
  }
 ],
 "metadata": {
  "kernelspec": {
   "display_name": "Python 3 (ipykernel)",
   "language": "python",
   "name": "python3"
  },
  "language_info": {
   "codemirror_mode": {
    "name": "ipython",
    "version": 3
   },
   "file_extension": ".py",
   "mimetype": "text/x-python",
   "name": "python",
   "nbconvert_exporter": "python",
   "pygments_lexer": "ipython3",
   "version": "3.10.4"
  }
 },
 "nbformat": 4,
 "nbformat_minor": 5
}
