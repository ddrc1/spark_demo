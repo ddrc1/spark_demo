{
 "cells": [
  {
   "cell_type": "code",
   "execution_count": 1,
   "id": "b8d8c946-5a27-4640-892d-73538dd2f18e",
   "metadata": {},
   "outputs": [],
   "source": [
    "import os\n",
    "import findspark\n",
    "findspark.init(os.getenv('SPARK_HOME'))\n",
    "from pyspark.sql import SparkSession\n",
    "from pyspark.ml.classification import LogisticRegression\n",
    "from pyspark.ml import Pipeline\n",
    "from pyspark.mllib.evaluation import MulticlassMetrics\n",
    "from pyspark.sql.functions import isnan, when, count, col\n",
    "from pyspark.ml.feature import VectorAssembler, VectorIndexer"
   ]
  },
  {
   "cell_type": "code",
   "execution_count": 2,
   "id": "ccb9e27e-0e6b-4322-a586-d6b005dc32c3",
   "metadata": {},
   "outputs": [
    {
     "name": "stderr",
     "output_type": "stream",
     "text": [
      "Setting default log level to \"WARN\".\n",
      "To adjust logging level use sc.setLogLevel(newLevel). For SparkR, use setLogLevel(newLevel).\n"
     ]
    },
    {
     "name": "stdout",
     "output_type": "stream",
     "text": [
      "22/08/21 09:46:49 WARN NativeCodeLoader: Unable to load native-hadoop library for your platform... using builtin-java classes where applicable\n",
      "22/08/21 09:46:49 WARN Utils: Service 'SparkUI' could not bind on port 4040. Attempting port 4041.\n"
     ]
    }
   ],
   "source": [
    "spark = SparkSession.builder.appName(\"logreg_exercice\").getOrCreate()"
   ]
  },
  {
   "cell_type": "code",
   "execution_count": 16,
   "id": "326efd6f-5b69-4517-9d74-ffed96df3751",
   "metadata": {},
   "outputs": [
    {
     "name": "stdout",
     "output_type": "stream",
     "text": [
      "+-------------------+----+--------------+---------------+-----+---------+-------------------+--------------------+--------------------+-----+\n",
      "|              Names| Age|Total_Purchase|Account_Manager|Years|Num_Sites|       Onboard_date|            Location|             Company|Churn|\n",
      "+-------------------+----+--------------+---------------+-----+---------+-------------------+--------------------+--------------------+-----+\n",
      "|   Cameron Williams|42.0|       11066.8|              0| 7.22|      8.0|2013-08-30 07:00:40|10265 Elizabeth M...|          Harvey LLC|    1|\n",
      "|      Kevin Mueller|41.0|      11916.22|              0|  6.5|     11.0|2013-08-13 00:38:46|6157 Frank Garden...|          Wilson PLC|    1|\n",
      "|        Eric Lozano|38.0|      12884.75|              0| 6.67|     12.0|2016-06-29 06:20:07|1331 Keith Court ...|Miller, Johnson a...|    1|\n",
      "|      Phillip White|42.0|       8010.76|              0| 6.71|     10.0|2014-04-22 12:43:12|13120 Daniel Moun...|           Smith Inc|    1|\n",
      "|     Cynthia Norton|37.0|       9191.58|              0| 5.56|      9.0|2016-01-19 15:31:15|765 Tricia Row Ka...|          Love-Jones|    1|\n",
      "|   Jessica Williams|48.0|      10356.02|              0| 5.12|      8.0|2009-03-03 23:13:37|6187 Olson Mounta...|        Kelly-Warren|    1|\n",
      "|        Eric Butler|44.0|      11331.58|              1| 5.23|     11.0|2016-12-05 03:35:43|4846 Savannah Roa...|   Reynolds-Sheppard|    1|\n",
      "|      Zachary Walsh|32.0|       9885.12|              1| 6.92|      9.0|2006-03-09 14:50:20|25271 Roy Express...|          Singh-Cole|    1|\n",
      "|        Ashlee Carr|43.0|       14062.6|              1| 5.46|     11.0|2011-09-29 05:47:23|3725 Caroline Str...|           Lopez PLC|    1|\n",
      "|     Jennifer Lynch|40.0|       8066.94|              1| 7.11|     11.0|2006-03-28 15:42:45|363 Sandra Lodge ...|       Reed-Martinez|    1|\n",
      "|       Paula Harris|30.0|      11575.37|              1| 5.22|      8.0|2016-11-13 13:13:01|Unit 8120 Box 916...|Briggs, Lamb and ...|    1|\n",
      "|     Bruce Phillips|45.0|       8771.02|              1| 6.64|     11.0|2015-05-28 12:14:03|Unit 1895 Box 094...|    Figueroa-Maynard|    1|\n",
      "|       Craig Garner|45.0|       8988.67|              1| 4.84|     11.0|2011-02-16 08:10:47|897 Kelley Overpa...|     Abbott-Thompson|    1|\n",
      "|       Nicole Olson|40.0|       8283.32|              1|  5.1|     13.0|2012-11-22 05:35:03|11488 Weaver Cape...|Smith, Kim and Ma...|    1|\n",
      "|     Harold Griffin|41.0|       6569.87|              1|  4.3|     11.0|2015-03-28 02:13:44|1774 Peter Row Ap...|Snyder, Lee and M...|    1|\n",
      "|       James Wright|38.0|      10494.82|              1| 6.81|     12.0|2015-07-22 08:38:40|45408 David Path ...|      Sanders-Pierce|    1|\n",
      "|      Doris Wilkins|45.0|       8213.41|              1| 7.35|     11.0|2006-09-03 06:13:55|28216 Wright Moun...|Andrews, Adams an...|    1|\n",
      "|Katherine Carpenter|43.0|      11226.88|              0| 8.08|     12.0|2006-10-22 04:42:38|Unit 4948 Box 481...|Morgan, Phillips ...|    1|\n",
      "|     Lindsay Martin|53.0|       5515.09|              0| 6.85|      8.0|2015-10-07 00:27:10|69203 Crosby Divi...|      Villanueva LLC|    1|\n",
      "|        Kathy Curry|46.0|        8046.4|              1| 5.69|      8.0|2014-11-06 23:47:14|9569 Caldwell Cre...|Berry, Orr and Ca...|    1|\n",
      "+-------------------+----+--------------+---------------+-----+---------+-------------------+--------------------+--------------------+-----+\n",
      "only showing top 20 rows\n",
      "\n"
     ]
    }
   ],
   "source": [
    "data = spark.read.csv(\"customer_churn.csv\", inferSchema=True, header=True)\n",
    "data.show()"
   ]
  },
  {
   "cell_type": "code",
   "execution_count": 17,
   "id": "9878ca9e-1176-4e6b-b84a-3e12d356a5c3",
   "metadata": {},
   "outputs": [
    {
     "name": "stdout",
     "output_type": "stream",
     "text": [
      "root\n",
      " |-- Names: string (nullable = true)\n",
      " |-- Age: double (nullable = true)\n",
      " |-- Total_Purchase: double (nullable = true)\n",
      " |-- Account_Manager: integer (nullable = true)\n",
      " |-- Years: double (nullable = true)\n",
      " |-- Num_Sites: double (nullable = true)\n",
      " |-- Onboard_date: timestamp (nullable = true)\n",
      " |-- Location: string (nullable = true)\n",
      " |-- Company: string (nullable = true)\n",
      " |-- Churn: integer (nullable = true)\n",
      "\n"
     ]
    }
   ],
   "source": [
    "data.printSchema()"
   ]
  },
  {
   "cell_type": "code",
   "execution_count": 18,
   "id": "52641c6c-4fbc-48d5-b152-bf159209155d",
   "metadata": {},
   "outputs": [
    {
     "data": {
      "text/plain": [
       "900"
      ]
     },
     "execution_count": 18,
     "metadata": {},
     "output_type": "execute_result"
    }
   ],
   "source": [
    "len(data.collect())"
   ]
  },
  {
   "cell_type": "code",
   "execution_count": 19,
   "id": "a4cc0cb6-f231-457a-b2e8-b78e405a9ce7",
   "metadata": {},
   "outputs": [
    {
     "data": {
      "text/plain": [
       "['Names',\n",
       " 'Age',\n",
       " 'Total_Purchase',\n",
       " 'Account_Manager',\n",
       " 'Years',\n",
       " 'Num_Sites',\n",
       " 'Onboard_date',\n",
       " 'Location',\n",
       " 'Company',\n",
       " 'Churn']"
      ]
     },
     "execution_count": 19,
     "metadata": {},
     "output_type": "execute_result"
    }
   ],
   "source": [
    "data.columns"
   ]
  },
  {
   "cell_type": "code",
   "execution_count": 20,
   "id": "f14de050-e23c-4077-8f9a-6cbffa228a21",
   "metadata": {},
   "outputs": [
    {
     "data": {
      "text/plain": [
       "873"
      ]
     },
     "execution_count": 20,
     "metadata": {},
     "output_type": "execute_result"
    }
   ],
   "source": [
    "len(data.select('Company').distinct().collect())"
   ]
  },
  {
   "cell_type": "code",
   "execution_count": 21,
   "id": "89c8abf3-f193-4d63-b31f-4b928e80a368",
   "metadata": {},
   "outputs": [],
   "source": [
    "data = data.select('Age', 'Total_Purchase', 'Account_Manager', 'Years', 'Num_Sites', 'Churn')"
   ]
  },
  {
   "cell_type": "code",
   "execution_count": 22,
   "id": "9e05846f-6e66-414c-bc28-29d72c1f9c9b",
   "metadata": {},
   "outputs": [
    {
     "name": "stdout",
     "output_type": "stream",
     "text": [
      "+---+--------------+---------------+-----+---------+-----+\n",
      "|Age|Total_Purchase|Account_Manager|Years|Num_Sites|Churn|\n",
      "+---+--------------+---------------+-----+---------+-----+\n",
      "|  0|             0|              0|    0|        0|    0|\n",
      "+---+--------------+---------------+-----+---------+-----+\n",
      "\n"
     ]
    }
   ],
   "source": [
    "data.select([count(when(isnan(c) | col(c).isNull(), c)).alias(c) for c in data.columns]).show()"
   ]
  },
  {
   "cell_type": "code",
   "execution_count": 24,
   "id": "7a97a16f-ee96-4ed6-bb14-a1ea747ae293",
   "metadata": {},
   "outputs": [],
   "source": [
    "assembler = VectorAssembler(inputCols=['Age', 'Total_Purchase', 'Account_Manager', 'Years', 'Num_Sites'], outputCol='features')"
   ]
  },
  {
   "cell_type": "code",
   "execution_count": 25,
   "id": "0cd91c0e-0ae5-49cc-85fa-be6afd0b336c",
   "metadata": {},
   "outputs": [],
   "source": [
    "model = LogisticRegression(featuresCol=\"features\", labelCol=\"Churn\", predictionCol=\"prediction\")"
   ]
  },
  {
   "cell_type": "code",
   "execution_count": 27,
   "id": "f1020630-b36f-46ac-ad3c-6c082f72a919",
   "metadata": {},
   "outputs": [],
   "source": [
    "pipeline = Pipeline(stages=[assembler, model])"
   ]
  },
  {
   "cell_type": "code",
   "execution_count": 28,
   "id": "12cf3ba5-e20a-467d-ba58-d2e465d6c24e",
   "metadata": {},
   "outputs": [],
   "source": [
    "train, test = data.randomSplit([0.8, 0.2])"
   ]
  },
  {
   "cell_type": "code",
   "execution_count": 29,
   "id": "a146e3bb-5c42-4d8e-8174-a2a8b536e585",
   "metadata": {},
   "outputs": [],
   "source": [
    "pipeline_fit = pipeline.fit(train)"
   ]
  },
  {
   "cell_type": "code",
   "execution_count": 30,
   "id": "9c82a992-7c4b-4387-9c91-55df594abdd8",
   "metadata": {},
   "outputs": [],
   "source": [
    "results = pipeline_fit.transform(test)"
   ]
  },
  {
   "cell_type": "code",
   "execution_count": 31,
   "id": "b336cf99-58a1-4ba9-a4fc-2f0ab5640439",
   "metadata": {},
   "outputs": [
    {
     "name": "stdout",
     "output_type": "stream",
     "text": [
      "+----+--------------+---------------+-----+---------+-----+--------------------+--------------------+--------------------+----------+\n",
      "| Age|Total_Purchase|Account_Manager|Years|Num_Sites|Churn|            features|       rawPrediction|         probability|prediction|\n",
      "+----+--------------+---------------+-----+---------+-----+--------------------+--------------------+--------------------+----------+\n",
      "|26.0|       8787.39|              1| 5.42|     11.0|    1|[26.0,8787.39,1.0...|[0.84520019743957...|[0.69955930605712...|       0.0|\n",
      "|30.0|       7960.64|              1| 2.72|     10.0|    1|[30.0,7960.64,1.0...|[3.38056965057722...|[0.96709173933101...|       0.0|\n",
      "|30.0|      10183.98|              1| 5.14|      9.0|    0|[30.0,10183.98,1....|[3.24463149380674...|[0.96247972306210...|       0.0|\n",
      "|30.0|      10744.14|              1| 7.16|      9.0|    1|[30.0,10744.14,1....|[2.07492758322238...|[0.88844228260438...|       0.0|\n",
      "|30.0|      11575.37|              1| 5.22|      8.0|    1|[30.0,11575.37,1....|[4.46645089328729...|[0.98864245982324...|       0.0|\n",
      "|30.0|      12788.37|              0| 4.31|     10.0|    0|[30.0,12788.37,0....|[2.82530869350523...|[0.94402823420774...|       0.0|\n",
      "|30.0|      13473.35|              0| 3.84|     10.0|    0|[30.0,13473.35,0....|[3.08520111136479...|[0.95627816111701...|       0.0|\n",
      "|31.0|       8829.83|              1| 4.52|      8.0|    0|[31.0,8829.83,1.0...|[4.83067654958937...|[0.99208207409964...|       0.0|\n",
      "|32.0|       9885.12|              1| 6.92|      9.0|    1|[32.0,9885.12,1.0...|[2.06681796066371...|[0.88763598135665...|       0.0|\n",
      "|32.0|      13630.93|              0| 4.38|     10.0|    0|[32.0,13630.93,0....|[2.61338311007003...|[0.93171794305589...|       0.0|\n",
      "|33.0|       7720.61|              1| 4.97|     10.0|    0|[33.0,7720.61,1.0...|[1.85216956407479...|[0.86438163348283...|       0.0|\n",
      "|33.0|      13157.08|              1| 5.04|     10.0|    0|[33.0,13157.08,1....|[1.73013555955571...|[0.84942975898584...|       0.0|\n",
      "|34.0|        9270.9|              0| 6.19|      7.0|    0|[34.0,9270.9,0.0,...|[5.34565530854828...|[0.99525380862737...|       0.0|\n",
      "|34.0|      12813.91|              0| 2.41|      7.0|    0|[34.0,12813.91,0....|[7.46543206721329...|[0.99942778996562...|       0.0|\n",
      "|35.0|        3825.7|              0| 4.28|      8.0|    0|[35.0,3825.7,0.0,...|[5.15736936228482...|[0.99427612742461...|       0.0|\n",
      "|35.0|       7814.68|              1| 5.99|      9.0|    0|[35.0,7814.68,1.0...|[2.39410424797568...|[0.91637661667896...|       0.0|\n",
      "|35.0|       8190.27|              0| 6.28|      7.0|    0|[35.0,8190.27,0.0...|[5.23066986179972...|[0.99467852917027...|       0.0|\n",
      "|35.0|       9381.12|              1| 6.78|     11.0|    1|[35.0,9381.12,1.0...|[-0.6611134112323...|[0.34048954352824...|       1.0|\n",
      "|35.0|       9766.95|              1| 4.59|     13.0|    1|[35.0,9766.95,1.0...|[-1.9853987966031...|[0.12074449864337...|       1.0|\n",
      "|35.0|      11391.46|              1| 7.59|     10.0|    0|[35.0,11391.46,1....|[0.13172472133872...|[0.53288364596549...|       0.0|\n",
      "+----+--------------+---------------+-----+---------+-----+--------------------+--------------------+--------------------+----------+\n",
      "only showing top 20 rows\n",
      "\n"
     ]
    }
   ],
   "source": [
    "results.show()"
   ]
  },
  {
   "cell_type": "code",
   "execution_count": 33,
   "id": "b3dffaf3-8dc7-45c5-914d-7c7f07157585",
   "metadata": {},
   "outputs": [
    {
     "ename": "AttributeError",
     "evalue": "'LogisticRegression' object has no attribute 'evaluate'",
     "output_type": "error",
     "traceback": [
      "\u001b[0;31m---------------------------------------------------------------------------\u001b[0m",
      "\u001b[0;31mAttributeError\u001b[0m                            Traceback (most recent call last)",
      "Input \u001b[0;32mIn [33]\u001b[0m, in \u001b[0;36m<cell line: 1>\u001b[0;34m()\u001b[0m\n\u001b[0;32m----> 1\u001b[0m \u001b[43mmodel\u001b[49m\u001b[38;5;241;43m.\u001b[39;49m\u001b[43mevaluate\u001b[49m(test)\n",
      "\u001b[0;31mAttributeError\u001b[0m: 'LogisticRegression' object has no attribute 'evaluate'"
     ]
    }
   ],
   "source": [
    "model.evaluate(test)"
   ]
  },
  {
   "cell_type": "code",
   "execution_count": null,
   "id": "0e263b24-0366-4af7-b3f7-83ebd555d531",
   "metadata": {},
   "outputs": [],
   "source": []
  }
 ],
 "metadata": {
  "kernelspec": {
   "display_name": "Python 3 (ipykernel)",
   "language": "python",
   "name": "python3"
  },
  "language_info": {
   "codemirror_mode": {
    "name": "ipython",
    "version": 3
   },
   "file_extension": ".py",
   "mimetype": "text/x-python",
   "name": "python",
   "nbconvert_exporter": "python",
   "pygments_lexer": "ipython3",
   "version": "3.10.4"
  }
 },
 "nbformat": 4,
 "nbformat_minor": 5
}
