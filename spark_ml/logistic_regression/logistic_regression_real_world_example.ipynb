{
 "cells": [
  {
   "cell_type": "code",
   "execution_count": 35,
   "id": "62dc7c45-83a8-4021-83f0-3c570841717a",
   "metadata": {},
   "outputs": [],
   "source": [
    "import os\n",
    "import findspark\n",
    "findspark.init(os.getenv('SPARK_HOME'))\n",
    "from pyspark.sql import SparkSession\n",
    "from pyspark.ml.classification import LogisticRegression\n",
    "from pyspark.ml import Pipeline\n",
    "from pyspark.mllib.evaluation import MulticlassMetrics\n",
    "from pyspark.sql.functions import isnan, when, count, col\n",
    "from pyspark.ml.feature import VectorAssembler, VectorIndexer, OneHotEncoder, StringIndexer"
   ]
  },
  {
   "cell_type": "code",
   "execution_count": 2,
   "id": "c5c8704a-84ee-44ee-a511-f6285234cd83",
   "metadata": {},
   "outputs": [
    {
     "name": "stderr",
     "output_type": "stream",
     "text": [
      "Setting default log level to \"WARN\".\n",
      "To adjust logging level use sc.setLogLevel(newLevel). For SparkR, use setLogLevel(newLevel).\n"
     ]
    },
    {
     "name": "stdout",
     "output_type": "stream",
     "text": [
      "22/08/21 08:53:07 WARN NativeCodeLoader: Unable to load native-hadoop library for your platform... using builtin-java classes where applicable\n"
     ]
    }
   ],
   "source": [
    "spark = SparkSession.builder.appName(\"logreg_ex\").getOrCreate()"
   ]
  },
  {
   "cell_type": "code",
   "execution_count": 26,
   "id": "01deb512-0a23-48ba-8c92-ba0f71c56544",
   "metadata": {},
   "outputs": [
    {
     "name": "stdout",
     "output_type": "stream",
     "text": [
      "+-----------+--------+------+--------------------+------+----+-----+-----+----------------+-------+-----+--------+\n",
      "|PassengerId|Survived|Pclass|                Name|   Sex| Age|SibSp|Parch|          Ticket|   Fare|Cabin|Embarked|\n",
      "+-----------+--------+------+--------------------+------+----+-----+-----+----------------+-------+-----+--------+\n",
      "|          1|       0|     3|Braund, Mr. Owen ...|  male|22.0|    1|    0|       A/5 21171|   7.25| null|       S|\n",
      "|          2|       1|     1|Cumings, Mrs. Joh...|female|38.0|    1|    0|        PC 17599|71.2833|  C85|       C|\n",
      "|          3|       1|     3|Heikkinen, Miss. ...|female|26.0|    0|    0|STON/O2. 3101282|  7.925| null|       S|\n",
      "|          4|       1|     1|Futrelle, Mrs. Ja...|female|35.0|    1|    0|          113803|   53.1| C123|       S|\n",
      "|          5|       0|     3|Allen, Mr. Willia...|  male|35.0|    0|    0|          373450|   8.05| null|       S|\n",
      "|          6|       0|     3|    Moran, Mr. James|  male|null|    0|    0|          330877| 8.4583| null|       Q|\n",
      "|          7|       0|     1|McCarthy, Mr. Tim...|  male|54.0|    0|    0|           17463|51.8625|  E46|       S|\n",
      "|          8|       0|     3|Palsson, Master. ...|  male| 2.0|    3|    1|          349909| 21.075| null|       S|\n",
      "|          9|       1|     3|Johnson, Mrs. Osc...|female|27.0|    0|    2|          347742|11.1333| null|       S|\n",
      "|         10|       1|     2|Nasser, Mrs. Nich...|female|14.0|    1|    0|          237736|30.0708| null|       C|\n",
      "|         11|       1|     3|Sandstrom, Miss. ...|female| 4.0|    1|    1|         PP 9549|   16.7|   G6|       S|\n",
      "|         12|       1|     1|Bonnell, Miss. El...|female|58.0|    0|    0|          113783|  26.55| C103|       S|\n",
      "|         13|       0|     3|Saundercock, Mr. ...|  male|20.0|    0|    0|       A/5. 2151|   8.05| null|       S|\n",
      "|         14|       0|     3|Andersson, Mr. An...|  male|39.0|    1|    5|          347082| 31.275| null|       S|\n",
      "|         15|       0|     3|Vestrom, Miss. Hu...|female|14.0|    0|    0|          350406| 7.8542| null|       S|\n",
      "|         16|       1|     2|Hewlett, Mrs. (Ma...|female|55.0|    0|    0|          248706|   16.0| null|       S|\n",
      "|         17|       0|     3|Rice, Master. Eugene|  male| 2.0|    4|    1|          382652| 29.125| null|       Q|\n",
      "|         18|       1|     2|Williams, Mr. Cha...|  male|null|    0|    0|          244373|   13.0| null|       S|\n",
      "|         19|       0|     3|Vander Planke, Mr...|female|31.0|    1|    0|          345763|   18.0| null|       S|\n",
      "|         20|       1|     3|Masselmani, Mrs. ...|female|null|    0|    0|            2649|  7.225| null|       C|\n",
      "+-----------+--------+------+--------------------+------+----+-----+-----+----------------+-------+-----+--------+\n",
      "only showing top 20 rows\n",
      "\n"
     ]
    }
   ],
   "source": [
    "data = spark.read.csv(\"titanic.csv\", inferSchema=True, header=True)\n",
    "data.show()"
   ]
  },
  {
   "cell_type": "code",
   "execution_count": 27,
   "id": "68c6c2f7-c130-4b2a-b2bc-605afa4dceef",
   "metadata": {},
   "outputs": [
    {
     "name": "stdout",
     "output_type": "stream",
     "text": [
      "root\n",
      " |-- PassengerId: integer (nullable = true)\n",
      " |-- Survived: integer (nullable = true)\n",
      " |-- Pclass: integer (nullable = true)\n",
      " |-- Name: string (nullable = true)\n",
      " |-- Sex: string (nullable = true)\n",
      " |-- Age: double (nullable = true)\n",
      " |-- SibSp: integer (nullable = true)\n",
      " |-- Parch: integer (nullable = true)\n",
      " |-- Ticket: string (nullable = true)\n",
      " |-- Fare: double (nullable = true)\n",
      " |-- Cabin: string (nullable = true)\n",
      " |-- Embarked: string (nullable = true)\n",
      "\n"
     ]
    }
   ],
   "source": [
    "data.printSchema()"
   ]
  },
  {
   "cell_type": "code",
   "execution_count": 28,
   "id": "e4403ef2-24f6-4c36-b431-173617bca798",
   "metadata": {},
   "outputs": [
    {
     "data": {
      "text/plain": [
       "['PassengerId',\n",
       " 'Survived',\n",
       " 'Pclass',\n",
       " 'Name',\n",
       " 'Sex',\n",
       " 'Age',\n",
       " 'SibSp',\n",
       " 'Parch',\n",
       " 'Ticket',\n",
       " 'Fare',\n",
       " 'Cabin',\n",
       " 'Embarked']"
      ]
     },
     "execution_count": 28,
     "metadata": {},
     "output_type": "execute_result"
    }
   ],
   "source": [
    "data.columns"
   ]
  },
  {
   "cell_type": "code",
   "execution_count": 29,
   "id": "425a0ed2-3857-4d70-992f-407efcedc5ef",
   "metadata": {},
   "outputs": [],
   "source": [
    "data = data.select('Survived', 'Pclass', 'Sex', 'Age', 'SibSp', 'Parch', 'Fare', 'Embarked')"
   ]
  },
  {
   "cell_type": "code",
   "execution_count": 30,
   "id": "e8231017-6221-448c-ab85-f954af491da7",
   "metadata": {},
   "outputs": [
    {
     "name": "stdout",
     "output_type": "stream",
     "text": [
      "+--------+------+---+---+-----+-----+----+--------+\n",
      "|Survived|Pclass|Sex|Age|SibSp|Parch|Fare|Embarked|\n",
      "+--------+------+---+---+-----+-----+----+--------+\n",
      "|       0|     0|  0|177|    0|    0|   0|       2|\n",
      "+--------+------+---+---+-----+-----+----+--------+\n",
      "\n"
     ]
    }
   ],
   "source": [
    "data.select([count(when(isnan(c) | col(c).isNull(), c)).alias(c) for c in data.columns]).show()"
   ]
  },
  {
   "cell_type": "code",
   "execution_count": 31,
   "id": "395fbe1d-1db4-4aa3-b906-ab8e6466aa34",
   "metadata": {},
   "outputs": [],
   "source": [
    "data = data.na.drop()"
   ]
  },
  {
   "cell_type": "code",
   "execution_count": 50,
   "id": "e701e37e-647f-48da-8e78-3c9e3068515b",
   "metadata": {},
   "outputs": [],
   "source": [
    "gender_indexer = StringIndexer(inputCol=\"Sex\", outputCol=\"SexIndex\")\n",
    "gender_encoder = OneHotEncoder(inputCol=\"SexIndex\", outputCol=\"SexVec\")\n",
    "\n",
    "embark_indexer = StringIndexer(inputCol=\"Embarked\", outputCol=\"EmbarkedIndex\")\n",
    "embark_encoder = OneHotEncoder(inputCol=\"EmbarkedIndex\", outputCol=\"EmbarkedVec\")"
   ]
  },
  {
   "cell_type": "code",
   "execution_count": 51,
   "id": "ae4ba3e1-c68d-491d-9f72-4247b7de8c26",
   "metadata": {},
   "outputs": [],
   "source": [
    "assembler = VectorAssembler(inputCols=['Pclass', 'SexVec', \"EmbarkedVec\", 'Age', 'SibSp', 'Parch', 'Fare'], outputCol=\"features\")"
   ]
  },
  {
   "cell_type": "code",
   "execution_count": 52,
   "id": "a0687281-76e2-4400-9e4a-cf11a7dcdb78",
   "metadata": {},
   "outputs": [],
   "source": [
    "model = LogisticRegression(featuresCol=\"features\", labelCol=\"Survived\", predictionCol=\"prediction\")"
   ]
  },
  {
   "cell_type": "code",
   "execution_count": 53,
   "id": "137d5530-7f5d-41e5-b68b-8c48ea91be2d",
   "metadata": {},
   "outputs": [],
   "source": [
    "pipeline = Pipeline(stages=[gender_indexer, embark_indexer, gender_encoder, embark_encoder, assembler, model])"
   ]
  },
  {
   "cell_type": "code",
   "execution_count": 54,
   "id": "b5a6b77d-665f-41ee-bd4b-d9dbe60ff89c",
   "metadata": {},
   "outputs": [],
   "source": [
    "train, test = data.randomSplit([0.8, 0.2])"
   ]
  },
  {
   "cell_type": "code",
   "execution_count": 55,
   "id": "5f1b45da-3a47-4889-be8f-a820468f0311",
   "metadata": {},
   "outputs": [],
   "source": [
    "fit_model = pipeline.fit(train)"
   ]
  },
  {
   "cell_type": "code",
   "execution_count": 56,
   "id": "30f467cd-49b1-46c4-baa8-c17f09906132",
   "metadata": {},
   "outputs": [],
   "source": [
    "results = fit_model.transform(test)"
   ]
  },
  {
   "cell_type": "code",
   "execution_count": 61,
   "id": "394ff0ee-a029-4a64-b12a-3a6ff670f8b3",
   "metadata": {},
   "outputs": [
    {
     "name": "stdout",
     "output_type": "stream",
     "text": [
      "+--------+------+------+----+-----+-----+------+--------+--------+-------------+-------------+-------------+--------------------+--------------------+--------------------+----------+\n",
      "|Survived|Pclass|   Sex| Age|SibSp|Parch|  Fare|Embarked|SexIndex|EmbarkedIndex|       SexVec|  EmbarkedVec|            features|       rawPrediction|         probability|prediction|\n",
      "+--------+------+------+----+-----+-----+------+--------+--------+-------------+-------------+-------------+--------------------+--------------------+--------------------+----------+\n",
      "|       0|     1|female| 2.0|    1|    2|151.55|       S|     1.0|          0.0|    (1,[],[])|(2,[0],[1.0])|[1.0,0.0,1.0,0.0,...|[-3.6309476202671...|[0.02580740333356...|       1.0|\n",
      "|       0|     1|  male|29.0|    0|    0|  30.0|       S|     0.0|          0.0|(1,[0],[1.0])|(2,[0],[1.0])|[1.0,1.0,1.0,0.0,...|[-0.1115559978905...|[0.47213988719302...|       1.0|\n",
      "|       0|     1|  male|33.0|    0|    0|   5.0|       S|     0.0|          0.0|(1,[0],[1.0])|(2,[0],[1.0])|[1.0,1.0,1.0,0.0,...|[0.14419996048223...|[0.53598765223163...|       0.0|\n",
      "|       0|     1|  male|37.0|    1|    0|  53.1|       S|     0.0|          0.0|(1,[0],[1.0])|(2,[0],[1.0])|[1.0,1.0,1.0,0.0,...|[0.50719272548660...|[0.62414815356872...|       0.0|\n",
      "|       0|     1|  male|40.0|    0|    0|   0.0|       S|     0.0|          0.0|(1,[0],[1.0])|(2,[0],[1.0])|(8,[0,1,2,4],[1.0...|[0.47772267514637...|[0.61720997366170...|       0.0|\n",
      "|       0|     1|  male|42.0|    1|    0|  52.0|       S|     0.0|          0.0|(1,[0],[1.0])|(2,[0],[1.0])|[1.0,1.0,1.0,0.0,...|[0.73814925005851...|[0.67659101568313...|       0.0|\n",
      "|       0|     1|  male|45.0|    0|    0| 26.55|       S|     0.0|          0.0|(1,[0],[1.0])|(2,[0],[1.0])|[1.0,1.0,1.0,0.0,...|[0.62729885454931...|[0.65187673365467...|       0.0|\n",
      "|       0|     1|  male|45.0|    1|    0|83.475|       S|     0.0|          0.0|(1,[0],[1.0])|(2,[0],[1.0])|[1.0,1.0,1.0,0.0,...|[0.78214242729697...|[0.68614167228494...|       0.0|\n",
      "|       0|     1|  male|45.5|    0|    0|  28.5|       S|     0.0|          0.0|(1,[0],[1.0])|(2,[0],[1.0])|[1.0,1.0,1.0,0.0,...|[0.64433145054907...|[0.65573193351456...|       0.0|\n",
      "|       0|     1|  male|46.0|    1|    0|61.175|       S|     0.0|          0.0|(1,[0],[1.0])|(2,[0],[1.0])|[1.0,1.0,1.0,0.0,...|[0.89332027909492...|[0.70957488608727...|       0.0|\n",
      "|       0|     1|  male|58.0|    0|    0|  29.7|       C|     0.0|          1.0|(1,[0],[1.0])|(2,[1],[1.0])|[1.0,1.0,0.0,1.0,...|[1.01971680089889...|[0.73491743204401...|       0.0|\n",
      "|       0|     1|  male|65.0|    0|    0| 26.55|       S|     0.0|          0.0|(1,[0],[1.0])|(2,[0],[1.0])|[1.0,1.0,1.0,0.0,...|[1.53817473516089...|[0.82319922875027...|       0.0|\n",
      "|       0|     2|  male|18.0|    0|    0|  11.5|       S|     0.0|          0.0|(1,[0],[1.0])|(2,[0],[1.0])|[2.0,1.0,1.0,0.0,...|[0.53643543580370...|[0.63098282034457...|       0.0|\n",
      "|       0|     2|  male|18.0|    0|    0|  73.5|       S|     0.0|          0.0|(1,[0],[1.0])|(2,[0],[1.0])|[2.0,1.0,1.0,0.0,...|[0.35395509582266...|[0.58757634964510...|       0.0|\n",
      "|       0|     2|  male|21.0|    0|    0|  73.5|       S|     0.0|          0.0|(1,[0],[1.0])|(2,[0],[1.0])|[2.0,1.0,1.0,0.0,...|[0.49058647791439...|[0.62024458181704...|       0.0|\n",
      "|       0|     2|  male|21.0|    1|    0|  11.5|       S|     0.0|          0.0|(1,[0],[1.0])|(2,[0],[1.0])|[2.0,1.0,1.0,0.0,...|[0.99545383182731...|[0.73016380936428...|       0.0|\n",
      "|       0|     2|  male|23.0|    0|    0|  13.0|       S|     0.0|          0.0|(1,[0],[1.0])|(2,[0],[1.0])|[2.0,1.0,1.0,0.0,...|[0.75973955902157...|[0.68129718656327...|       0.0|\n",
      "|       0|     2|  male|24.0|    0|    0|  10.5|       S|     0.0|          0.0|(1,[0],[1.0])|(2,[0],[1.0])|[2.0,1.0,1.0,0.0,...|[0.81264143127719...|[0.69267209148691...|       0.0|\n",
      "|       0|     2|  male|24.0|    2|    0|  73.5|       S|     0.0|          0.0|(1,[0],[1.0])|(2,[0],[1.0])|[2.0,1.0,1.0,0.0,...|[1.27199188786987...|[0.78108353558431...|       0.0|\n",
      "|       0|     2|  male|25.0|    0|    0|  13.0|       S|     0.0|          0.0|(1,[0],[1.0])|(2,[0],[1.0])|[2.0,1.0,1.0,0.0,...|[0.85082714708273...|[0.70074062666053...|       0.0|\n",
      "+--------+------+------+----+-----+-----+------+--------+--------+-------------+-------------+-------------+--------------------+--------------------+--------------------+----------+\n",
      "only showing top 20 rows\n",
      "\n"
     ]
    }
   ],
   "source": [
    "results.show()"
   ]
  },
  {
   "cell_type": "code",
   "execution_count": 63,
   "id": "49a1e086-74c9-4ed9-8fbe-df52b3071f82",
   "metadata": {},
   "outputs": [],
   "source": [
    "from pyspark.ml.evaluation import BinaryClassificationEvaluator"
   ]
  },
  {
   "cell_type": "code",
   "execution_count": 64,
   "id": "9c1d556e-4e90-4704-a9d5-650557f06344",
   "metadata": {},
   "outputs": [],
   "source": [
    "model_eval = BinaryClassificationEvaluator(rawPredictionCol=\"prediction\", labelCol=\"Survived\")"
   ]
  },
  {
   "cell_type": "code",
   "execution_count": 65,
   "id": "1e58b7f6-0fee-4155-b2c7-1bdc22f26397",
   "metadata": {},
   "outputs": [
    {
     "data": {
      "text/plain": [
       "0.8177409261576971"
      ]
     },
     "execution_count": 65,
     "metadata": {},
     "output_type": "execute_result"
    }
   ],
   "source": [
    "AUC = model_eval.evaluate(results)\n",
    "AUC"
   ]
  },
  {
   "cell_type": "code",
   "execution_count": null,
   "id": "503cd12c-4561-45cb-9c36-2e3c73839f58",
   "metadata": {},
   "outputs": [],
   "source": []
  }
 ],
 "metadata": {
  "kernelspec": {
   "display_name": "Python 3 (ipykernel)",
   "language": "python",
   "name": "python3"
  },
  "language_info": {
   "codemirror_mode": {
    "name": "ipython",
    "version": 3
   },
   "file_extension": ".py",
   "mimetype": "text/x-python",
   "name": "python",
   "nbconvert_exporter": "python",
   "pygments_lexer": "ipython3",
   "version": "3.10.4"
  }
 },
 "nbformat": 4,
 "nbformat_minor": 5
}
