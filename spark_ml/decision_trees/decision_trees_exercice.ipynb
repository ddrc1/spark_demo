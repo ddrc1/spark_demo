{
 "cells": [
  {
   "cell_type": "code",
   "execution_count": 1,
   "id": "4f841aec-b811-4b77-a77a-32704ac6999b",
   "metadata": {},
   "outputs": [],
   "source": [
    "import os\n",
    "import findspark\n",
    "findspark.init(os.getenv('SPARK_HOME'))\n",
    "from pyspark.sql import SparkSession\n",
    "from pyspark.ml import Pipeline\n",
    "from pyspark.ml.classification import RandomForestClassifier, DecisionTreeClassifier, GBTClassifier\n",
    "from pyspark.ml.evaluation import MulticlassClassificationEvaluator as mce\n",
    "from pyspark.ml.feature import VectorAssembler, StringIndexer"
   ]
  },
  {
   "cell_type": "code",
   "execution_count": 2,
   "id": "a9bceba0-2784-46ec-9529-600112b6cd66",
   "metadata": {},
   "outputs": [
    {
     "name": "stderr",
     "output_type": "stream",
     "text": [
      "Setting default log level to \"WARN\".\n",
      "To adjust logging level use sc.setLogLevel(newLevel). For SparkR, use setLogLevel(newLevel).\n"
     ]
    },
    {
     "name": "stdout",
     "output_type": "stream",
     "text": [
      "22/08/25 19:37:10 WARN NativeCodeLoader: Unable to load native-hadoop library for your platform... using builtin-java classes where applicable\n"
     ]
    }
   ],
   "source": [
    "spark = SparkSession.builder.appName('decision_tree_exercice').getOrCreate()"
   ]
  },
  {
   "cell_type": "code",
   "execution_count": 9,
   "id": "5bd19133-e4f3-46d6-8f66-15dc01a85912",
   "metadata": {},
   "outputs": [
    {
     "name": "stdout",
     "output_type": "stream",
     "text": [
      "+---+---+----+---+-------+\n",
      "|  A|  B|   C|  D|Spoiled|\n",
      "+---+---+----+---+-------+\n",
      "|  4|  2|12.0|  3|    1.0|\n",
      "|  5|  6|12.0|  7|    1.0|\n",
      "|  6|  2|13.0|  6|    1.0|\n",
      "|  4|  2|12.0|  1|    1.0|\n",
      "|  4|  2|12.0|  3|    1.0|\n",
      "| 10|  3|13.0|  9|    1.0|\n",
      "|  8|  5|14.0|  5|    1.0|\n",
      "|  5|  8|12.0|  8|    1.0|\n",
      "|  6|  5|12.0|  9|    1.0|\n",
      "|  3|  3|12.0|  1|    1.0|\n",
      "|  9|  8|11.0|  3|    1.0|\n",
      "|  1| 10|12.0|  3|    1.0|\n",
      "|  1|  5|13.0| 10|    1.0|\n",
      "|  2| 10|12.0|  6|    1.0|\n",
      "|  1| 10|11.0|  4|    1.0|\n",
      "|  5|  3|12.0|  2|    1.0|\n",
      "|  4|  9|11.0|  8|    1.0|\n",
      "|  5|  1|11.0|  1|    1.0|\n",
      "|  4|  9|12.0| 10|    1.0|\n",
      "|  5|  8|10.0|  9|    1.0|\n",
      "+---+---+----+---+-------+\n",
      "only showing top 20 rows\n",
      "\n"
     ]
    }
   ],
   "source": [
    "data = spark.read.csv(\"dog_food.csv\", inferSchema=True, header=True)\n",
    "data.show()"
   ]
  },
  {
   "cell_type": "code",
   "execution_count": 10,
   "id": "a7da7ac8-7341-4f04-b71e-679a21b1c314",
   "metadata": {},
   "outputs": [
    {
     "name": "stdout",
     "output_type": "stream",
     "text": [
      "+-------+------------------+------------------+------------------+------------------+-------------------+\n",
      "|summary|                 A|                 B|                 C|                 D|            Spoiled|\n",
      "+-------+------------------+------------------+------------------+------------------+-------------------+\n",
      "|  count|               490|               490|               490|               490|                490|\n",
      "|   mean|  5.53469387755102| 5.504081632653061| 9.126530612244897| 5.579591836734694| 0.2857142857142857|\n",
      "| stddev|2.9515204234399057|2.8537966089662063|2.0555451971054275|2.8548369309982857|0.45221563164613465|\n",
      "|    min|                 1|                 1|               5.0|                 1|                0.0|\n",
      "|    max|                10|                10|              14.0|                10|                1.0|\n",
      "+-------+------------------+------------------+------------------+------------------+-------------------+\n",
      "\n"
     ]
    }
   ],
   "source": [
    "data.describe().show()"
   ]
  },
  {
   "cell_type": "code",
   "execution_count": 11,
   "id": "79ab0d8d-4837-4b2c-8353-70f353ef70d2",
   "metadata": {},
   "outputs": [
    {
     "data": {
      "text/plain": [
       "['A', 'B', 'C', 'D', 'Spoiled']"
      ]
     },
     "execution_count": 11,
     "metadata": {},
     "output_type": "execute_result"
    }
   ],
   "source": [
    "data.columns"
   ]
  },
  {
   "cell_type": "code",
   "execution_count": 12,
   "id": "864c1991-b31d-4cc4-9752-c113d07f0f29",
   "metadata": {},
   "outputs": [
    {
     "name": "stdout",
     "output_type": "stream",
     "text": [
      "+---+---+----+---+-------+-------------------+\n",
      "|  A|  B|   C|  D|Spoiled|           features|\n",
      "+---+---+----+---+-------+-------------------+\n",
      "|  4|  2|12.0|  3|    1.0| [4.0,2.0,12.0,3.0]|\n",
      "|  5|  6|12.0|  7|    1.0| [5.0,6.0,12.0,7.0]|\n",
      "|  6|  2|13.0|  6|    1.0| [6.0,2.0,13.0,6.0]|\n",
      "|  4|  2|12.0|  1|    1.0| [4.0,2.0,12.0,1.0]|\n",
      "|  4|  2|12.0|  3|    1.0| [4.0,2.0,12.0,3.0]|\n",
      "| 10|  3|13.0|  9|    1.0|[10.0,3.0,13.0,9.0]|\n",
      "|  8|  5|14.0|  5|    1.0| [8.0,5.0,14.0,5.0]|\n",
      "|  5|  8|12.0|  8|    1.0| [5.0,8.0,12.0,8.0]|\n",
      "|  6|  5|12.0|  9|    1.0| [6.0,5.0,12.0,9.0]|\n",
      "|  3|  3|12.0|  1|    1.0| [3.0,3.0,12.0,1.0]|\n",
      "|  9|  8|11.0|  3|    1.0| [9.0,8.0,11.0,3.0]|\n",
      "|  1| 10|12.0|  3|    1.0|[1.0,10.0,12.0,3.0]|\n",
      "|  1|  5|13.0| 10|    1.0|[1.0,5.0,13.0,10.0]|\n",
      "|  2| 10|12.0|  6|    1.0|[2.0,10.0,12.0,6.0]|\n",
      "|  1| 10|11.0|  4|    1.0|[1.0,10.0,11.0,4.0]|\n",
      "|  5|  3|12.0|  2|    1.0| [5.0,3.0,12.0,2.0]|\n",
      "|  4|  9|11.0|  8|    1.0| [4.0,9.0,11.0,8.0]|\n",
      "|  5|  1|11.0|  1|    1.0| [5.0,1.0,11.0,1.0]|\n",
      "|  4|  9|12.0| 10|    1.0|[4.0,9.0,12.0,10.0]|\n",
      "|  5|  8|10.0|  9|    1.0| [5.0,8.0,10.0,9.0]|\n",
      "+---+---+----+---+-------+-------------------+\n",
      "only showing top 20 rows\n",
      "\n"
     ]
    }
   ],
   "source": [
    "assembly = VectorAssembler(inputCols=['A', 'B', 'C', 'D'], outputCol=\"features\")\n",
    "data = assembly.transform(data)\n",
    "data.show()"
   ]
  },
  {
   "cell_type": "code",
   "execution_count": null,
   "id": "6c27fc66-8c83-4884-8ab1-3a366b5cf907",
   "metadata": {},
   "outputs": [],
   "source": [
    "train, test = data.randomSplit([0.8, 0.2])"
   ]
  },
  {
   "cell_type": "code",
   "execution_count": 16,
   "id": "089fc1f5-760c-4b62-a51f-4b1ed08c2b3c",
   "metadata": {},
   "outputs": [],
   "source": [
    "rfc = RandomForestClassifier(labelCol=\"Spoiled\", featuresCol=\"features\")\n",
    "rfc_model = rfc.fit(train)"
   ]
  },
  {
   "cell_type": "code",
   "execution_count": 18,
   "id": "627e402a-bdca-435f-948a-6efc212babb6",
   "metadata": {},
   "outputs": [
    {
     "name": "stdout",
     "output_type": "stream",
     "text": [
      "+---+---+----+---+-------+-------------------+--------------------+--------------------+----------+\n",
      "|  A|  B|   C|  D|Spoiled|           features|       rawPrediction|         probability|prediction|\n",
      "+---+---+----+---+-------+-------------------+--------------------+--------------------+----------+\n",
      "|  1|  1|12.0|  2|    1.0| [1.0,1.0,12.0,2.0]|[0.79316036458216...|[0.03965801822910...|       1.0|\n",
      "|  1|  3| 8.0|  3|    0.0|  [1.0,3.0,8.0,3.0]|[19.6943232411074...|[0.98471616205537...|       0.0|\n",
      "|  1|  8| 6.0|  6|    0.0|  [1.0,8.0,6.0,6.0]|[19.7509377267621...|[0.98754688633810...|       0.0|\n",
      "|  1|  9|11.0| 10|    1.0|[1.0,9.0,11.0,10.0]|[1.01561609045007...|[0.05078080452250...|       1.0|\n",
      "|  2|  1| 7.0|  9|    0.0|  [2.0,1.0,7.0,9.0]|[19.6450315365888...|[0.98225157682944...|       0.0|\n",
      "|  2|  1| 8.0|  9|    0.0|  [2.0,1.0,8.0,9.0]|[19.6450315365888...|[0.98225157682944...|       0.0|\n",
      "|  2|  1| 9.0|  1|    0.0|  [2.0,1.0,9.0,1.0]|[19.4154734319472...|[0.97077367159736...|       0.0|\n",
      "|  2|  2| 8.0|  1|    0.0|  [2.0,2.0,8.0,1.0]|[19.6495750111193...|[0.98247875055596...|       0.0|\n",
      "|  2|  4|13.0|  4|    1.0| [2.0,4.0,13.0,4.0]|[0.98562821516391...|[0.04928141075819...|       1.0|\n",
      "|  2|  6|12.0|  2|    1.0| [2.0,6.0,12.0,2.0]|[0.90070925815193...|[0.04503546290759...|       1.0|\n",
      "|  2|  8| 8.0|  4|    0.0|  [2.0,8.0,8.0,4.0]|[19.7406284484116...|[0.98703142242058...|       0.0|\n",
      "|  2|  9| 9.0| 10|    0.0| [2.0,9.0,9.0,10.0]|[19.7509377267621...|[0.98754688633810...|       0.0|\n",
      "|  2|  9|10.0|  3|    0.0| [2.0,9.0,10.0,3.0]|[14.7654153740727...|[0.73827076870363...|       0.0|\n",
      "|  2|  9|10.0|  3|    1.0| [2.0,9.0,10.0,3.0]|[14.7654153740727...|[0.73827076870363...|       0.0|\n",
      "|  2| 10| 8.0|  3|    0.0| [2.0,10.0,8.0,3.0]|[19.7112166837057...|[0.98556083418528...|       0.0|\n",
      "|  2| 10| 9.0|  2|    0.0| [2.0,10.0,9.0,2.0]|[19.7112166837057...|[0.98556083418528...|       0.0|\n",
      "|  3|  2| 6.0| 10|    0.0| [3.0,2.0,6.0,10.0]|[19.4995585236863...|[0.97497792618431...|       0.0|\n",
      "|  3|  4| 9.0|  5|    0.0|  [3.0,4.0,9.0,5.0]|[19.6954612125467...|[0.98477306062733...|       0.0|\n",
      "|  3|  5| 8.0|  6|    0.0|  [3.0,5.0,8.0,6.0]|[19.7185910037177...|[0.98592955018588...|       0.0|\n",
      "|  3|  6| 7.0|  8|    0.0|  [3.0,6.0,7.0,8.0]|[19.7509377267621...|[0.98754688633810...|       0.0|\n",
      "+---+---+----+---+-------+-------------------+--------------------+--------------------+----------+\n",
      "only showing top 20 rows\n",
      "\n"
     ]
    }
   ],
   "source": [
    "result = rfc_model.transform(test)\n",
    "result.show()"
   ]
  },
  {
   "cell_type": "code",
   "execution_count": 28,
   "id": "8cf121fc-9582-4837-bdcf-dcd08f962f34",
   "metadata": {},
   "outputs": [],
   "source": [
    "f1_eval = mce(metricName=\"f1\", labelCol='Spoiled')"
   ]
  },
  {
   "cell_type": "code",
   "execution_count": 31,
   "id": "4f65dc7f-cef3-4ea3-9641-fd7bd9f85ece",
   "metadata": {},
   "outputs": [
    {
     "name": "stdout",
     "output_type": "stream",
     "text": [
      "f1_score = 0.9775240384615383\n"
     ]
    }
   ],
   "source": [
    "print(\"f1_score =\", f1_eval.evaluate(result))"
   ]
  },
  {
   "cell_type": "code",
   "execution_count": 42,
   "id": "e72ec38a-be4b-4e68-a79e-8058d0391be0",
   "metadata": {},
   "outputs": [
    {
     "data": {
      "text/plain": [
       "SparseVector(4, {0: 0.0244, 1: 0.0231, 2: 0.9322, 3: 0.0203})"
      ]
     },
     "execution_count": 42,
     "metadata": {},
     "output_type": "execute_result"
    }
   ],
   "source": [
    "rfc_model.featureImportances"
   ]
  },
  {
   "cell_type": "code",
   "execution_count": 43,
   "id": "ff9abd3a-e801-49d4-b4f9-1b93373fe35a",
   "metadata": {},
   "outputs": [
    {
     "data": {
      "text/plain": [
       "'O preservativo quimico 2(C) é o que mais influencia no resultado'"
      ]
     },
     "execution_count": 44,
     "metadata": {},
     "output_type": "execute_result"
    }
   ],
   "source": [
    "f\"O preservativo quimico 2(c) é o que mais influencia no resultado\""
   ]
  },
  {
   "cell_type": "code",
   "execution_count": null,
   "id": "70aa7283-fb69-4d84-bc3d-fe7e56c849df",
   "metadata": {},
   "outputs": [],
   "source": []
  }
 ],
 "metadata": {
  "kernelspec": {
   "display_name": "Python 3 (ipykernel)",
   "language": "python",
   "name": "python3"
  },
  "language_info": {
   "codemirror_mode": {
    "name": "ipython",
    "version": 3
   },
   "file_extension": ".py",
   "mimetype": "text/x-python",
   "name": "python",
   "nbconvert_exporter": "python",
   "pygments_lexer": "ipython3",
   "version": "3.10.4"
  }
 },
 "nbformat": 4,
 "nbformat_minor": 5
}
