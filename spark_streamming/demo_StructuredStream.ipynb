{
 "cells": [
  {
   "cell_type": "code",
   "execution_count": 6,
   "id": "f79d8647-ed29-4a00-b0af-32e553d3ca08",
   "metadata": {},
   "outputs": [],
   "source": [
    "import os\n",
    "import findspark\n",
    "findspark.init(os.getenv('SPARK_HOME'))\n",
    "from pyspark.sql import SparkSession\n",
    "from pyspark.sql.functions import explode, split"
   ]
  },
  {
   "cell_type": "code",
   "execution_count": 7,
   "id": "a69a5c35-7cf7-4b62-8ba8-33bdeebdf61f",
   "metadata": {},
   "outputs": [],
   "source": [
    "spark = SparkSession.builder.appName(\"StructuredNetworkWordCount\").getOrCreate()"
   ]
  },
  {
   "cell_type": "code",
   "execution_count": 8,
   "id": "9751678d-8909-46ff-80a0-f47997a989a3",
   "metadata": {},
   "outputs": [
    {
     "name": "stdout",
     "output_type": "stream",
     "text": [
      "22/08/30 12:45:16 WARN TextSocketSourceProvider: The socket source should not be used for production applications! It does not support recovery.\n"
     ]
    }
   ],
   "source": [
    "lines = spark.readStream.format('socket').option(\"host\", \"localhost\").option(\"port\", 9999).load()"
   ]
  },
  {
   "cell_type": "code",
   "execution_count": 9,
   "id": "d1b3a090-1e1b-42fe-9f77-a8102ce159ec",
   "metadata": {},
   "outputs": [],
   "source": [
    "words = lines.select(explode(split(lines.value, \" \")).alias(\"word\"))"
   ]
  },
  {
   "cell_type": "code",
   "execution_count": 10,
   "id": "6c739024-ace2-43a8-a398-275682f82dfa",
   "metadata": {},
   "outputs": [],
   "source": [
    "wordCounts = words.groupBy(\"word\").count()"
   ]
  },
  {
   "cell_type": "code",
   "execution_count": null,
   "id": "2c0c4518-b928-488d-ab57-485f488a71a9",
   "metadata": {},
   "outputs": [
    {
     "name": "stdout",
     "output_type": "stream",
     "text": [
      "22/08/30 12:45:19 WARN ResolveWriteToStream: Temporary checkpoint location created which is deleted normally when the query didn't fail: /tmp/temporary-df9c2fc5-201a-494a-bf90-eca1f435f93c. If it's required to delete it under any circumstances, please set spark.sql.streaming.forceDeleteTempCheckpointLocation to true. Important to know deleting temp checkpoint folder is best effort.\n",
      "22/08/30 12:45:19 WARN ResolveWriteToStream: spark.sql.adaptive.enabled is not supported in streaming DataFrames/Datasets and will be disabled.\n"
     ]
    },
    {
     "name": "stderr",
     "output_type": "stream",
     "text": [
      "                                                                                \r"
     ]
    },
    {
     "name": "stdout",
     "output_type": "stream",
     "text": [
      "-------------------------------------------\n",
      "Batch: 0\n",
      "-------------------------------------------\n",
      "+----+-----+\n",
      "|word|count|\n",
      "+----+-----+\n",
      "+----+-----+\n",
      "\n",
      "22/08/30 12:45:36 ERROR ContextCleaner: Error cleaning shuffle 0\n",
      "java.lang.NullPointerException\n",
      "\tat org.apache.spark.MapOutputTrackerMaster.$anonfun$unregisterShuffle$1(MapOutputTracker.scala:882)\n",
      "\tat org.apache.spark.MapOutputTrackerMaster.$anonfun$unregisterShuffle$1$adapted(MapOutputTracker.scala:881)\n",
      "\tat scala.Option.foreach(Option.scala:437)\n",
      "\tat org.apache.spark.MapOutputTrackerMaster.unregisterShuffle(MapOutputTracker.scala:881)\n",
      "\tat org.apache.spark.ContextCleaner.doCleanupShuffle(ContextCleaner.scala:241)\n",
      "\tat org.apache.spark.ContextCleaner.$anonfun$keepCleaning$3(ContextCleaner.scala:202)\n",
      "\tat org.apache.spark.ContextCleaner.$anonfun$keepCleaning$3$adapted(ContextCleaner.scala:195)\n",
      "\tat scala.Option.foreach(Option.scala:437)\n",
      "\tat org.apache.spark.ContextCleaner.$anonfun$keepCleaning$1(ContextCleaner.scala:195)\n",
      "\tat org.apache.spark.util.Utils$.tryOrStopSparkContext(Utils.scala:1446)\n",
      "\tat org.apache.spark.ContextCleaner.org$apache$spark$ContextCleaner$$keepCleaning(ContextCleaner.scala:189)\n",
      "\tat org.apache.spark.ContextCleaner$$anon$1.run(ContextCleaner.scala:79)\n"
     ]
    },
    {
     "name": "stderr",
     "output_type": "stream",
     "text": [
      "                                                                                \r"
     ]
    },
    {
     "name": "stdout",
     "output_type": "stream",
     "text": [
      "-------------------------------------------\n",
      "Batch: 1\n",
      "-------------------------------------------\n",
      "+----+-----+\n",
      "|word|count|\n",
      "+----+-----+\n",
      "|  oi|    1|\n",
      "+----+-----+\n",
      "\n"
     ]
    },
    {
     "name": "stderr",
     "output_type": "stream",
     "text": [
      "                                                                                \r"
     ]
    },
    {
     "name": "stdout",
     "output_type": "stream",
     "text": [
      "-------------------------------------------\n",
      "Batch: 2\n",
      "-------------------------------------------\n",
      "+-----+-----+\n",
      "| word|count|\n",
      "+-----+-----+\n",
      "| ola,|    1|\n",
      "|bem??|    1|\n",
      "|   oi|    1|\n",
      "| tudo|    1|\n",
      "+-----+-----+\n",
      "\n"
     ]
    },
    {
     "name": "stderr",
     "output_type": "stream",
     "text": [
      "                                                                                \r"
     ]
    },
    {
     "name": "stdout",
     "output_type": "stream",
     "text": [
      "-------------------------------------------\n",
      "Batch: 3\n",
      "-------------------------------------------\n",
      "+-----+-----+\n",
      "| word|count|\n",
      "+-----+-----+\n",
      "| ola,|    1|\n",
      "|  com|    1|\n",
      "|bem??|    1|\n",
      "|    e|    1|\n",
      "| sim,|    1|\n",
      "|   oi|    1|\n",
      "|  vc?|    1|\n",
      "| tudo|    2|\n",
      "+-----+-----+\n",
      "\n"
     ]
    },
    {
     "name": "stderr",
     "output_type": "stream",
     "text": [
      "                                                                                \r"
     ]
    },
    {
     "name": "stdout",
     "output_type": "stream",
     "text": [
      "-------------------------------------------\n",
      "Batch: 4\n",
      "-------------------------------------------\n",
      "+-----+-----+\n",
      "| word|count|\n",
      "+-----+-----+\n",
      "| aaaa|    1|\n",
      "| ola,|    1|\n",
      "|  com|    1|\n",
      "|bem??|    1|\n",
      "|    e|    2|\n",
      "| sim,|    1|\n",
      "|   oi|    1|\n",
      "|  vc?|    1|\n",
      "|aiii?|    1|\n",
      "| tudo|    2|\n",
      "+-----+-----+\n",
      "\n"
     ]
    },
    {
     "name": "stderr",
     "output_type": "stream",
     "text": [
      "                                                                                \r"
     ]
    },
    {
     "name": "stdout",
     "output_type": "stream",
     "text": [
      "-------------------------------------------\n",
      "Batch: 5\n",
      "-------------------------------------------\n",
      "+-----+-----+\n",
      "| word|count|\n",
      "+-----+-----+\n",
      "| aaaa|    1|\n",
      "| ola,|    1|\n",
      "|  com|    1|\n",
      "|bem??|    1|\n",
      "|    e|    2|\n",
      "| sim,|    1|\n",
      "|   oi|    1|\n",
      "|  vc?|    1|\n",
      "|    ?|    4|\n",
      "|aiii?|    1|\n",
      "| tudo|    2|\n",
      "+-----+-----+\n",
      "\n"
     ]
    },
    {
     "name": "stderr",
     "output_type": "stream",
     "text": [
      "                                                                                \r"
     ]
    },
    {
     "name": "stdout",
     "output_type": "stream",
     "text": [
      "-------------------------------------------\n",
      "Batch: 6\n",
      "-------------------------------------------\n",
      "+-----+-----+\n",
      "| word|count|\n",
      "+-----+-----+\n",
      "| aaaa|    1|\n",
      "| ola,|    1|\n",
      "|  com|    1|\n",
      "|bem??|    1|\n",
      "|    e|    2|\n",
      "| sim,|    1|\n",
      "|   oi|    2|\n",
      "|  vc?|    1|\n",
      "|    ?|    4|\n",
      "|aiii?|    1|\n",
      "| tudo|    2|\n",
      "+-----+-----+\n",
      "\n"
     ]
    },
    {
     "name": "stderr",
     "output_type": "stream",
     "text": [
      "                                                                                \r"
     ]
    },
    {
     "name": "stdout",
     "output_type": "stream",
     "text": [
      "-------------------------------------------\n",
      "Batch: 7\n",
      "-------------------------------------------\n",
      "+---------+-----+\n",
      "|     word|count|\n",
      "+---------+-----+\n",
      "|     aaaa|    1|\n",
      "|     ola,|    1|\n",
      "|      com|    1|\n",
      "|    bem??|    1|\n",
      "|asdfinadf|    1|\n",
      "|        e|    2|\n",
      "|     sim,|    1|\n",
      "|       oi|    5|\n",
      "|      vc?|    1|\n",
      "|        ?|    4|\n",
      "|    aiii?|    1|\n",
      "|     tudo|    2|\n",
      "+---------+-----+\n",
      "\n"
     ]
    },
    {
     "name": "stderr",
     "output_type": "stream",
     "text": [
      "                                                                                \r"
     ]
    },
    {
     "name": "stdout",
     "output_type": "stream",
     "text": [
      "-------------------------------------------\n",
      "Batch: 8\n",
      "-------------------------------------------\n",
      "+---------+-----+\n",
      "|     word|count|\n",
      "+---------+-----+\n",
      "|     aaaa|    1|\n",
      "|     ola,|    1|\n",
      "|      com|    1|\n",
      "|    bem??|    1|\n",
      "|asdfinadf|    1|\n",
      "|  dkdkddf|    1|\n",
      "|        e|    2|\n",
      "|     sim,|    1|\n",
      "|       oi|    5|\n",
      "|      vc?|    1|\n",
      "|   dgdkdf|    1|\n",
      "|        ?|    4|\n",
      "|    aiii?|    1|\n",
      "|     tudo|    2|\n",
      "+---------+-----+\n",
      "\n"
     ]
    },
    {
     "name": "stderr",
     "output_type": "stream",
     "text": [
      "                                                                                \r"
     ]
    },
    {
     "name": "stdout",
     "output_type": "stream",
     "text": [
      "-------------------------------------------\n",
      "Batch: 9\n",
      "-------------------------------------------\n",
      "+---------+-----+\n",
      "|     word|count|\n",
      "+---------+-----+\n",
      "|     aaaa|    1|\n",
      "|     ola,|    1|\n",
      "|      com|    1|\n",
      "|    bem??|    1|\n",
      "|asdfinadf|    1|\n",
      "|  dkdkddf|    1|\n",
      "|        e|    2|\n",
      "|     sim,|    1|\n",
      "|       oi|    5|\n",
      "|      vc?|    1|\n",
      "|       df|    1|\n",
      "|   dgdkdf|    1|\n",
      "|        ?|    4|\n",
      "|    aiii?|    1|\n",
      "|     tudo|    2|\n",
      "+---------+-----+\n",
      "\n"
     ]
    },
    {
     "name": "stderr",
     "output_type": "stream",
     "text": [
      "                                                                                \r"
     ]
    },
    {
     "name": "stdout",
     "output_type": "stream",
     "text": [
      "-------------------------------------------\n",
      "Batch: 10\n",
      "-------------------------------------------\n",
      "+---------+-----+\n",
      "|     word|count|\n",
      "+---------+-----+\n",
      "|     aaaa|    1|\n",
      "|     ola,|    1|\n",
      "|      com|    1|\n",
      "|    bem??|    1|\n",
      "|asdfinadf|    1|\n",
      "|  dkdkddf|    1|\n",
      "|        e|    2|\n",
      "|     sim,|    1|\n",
      "|       oi|    5|\n",
      "|      vc?|    1|\n",
      "|       df|    4|\n",
      "|   dgdkdf|    1|\n",
      "|        ?|    4|\n",
      "|    aiii?|    1|\n",
      "|     tudo|    2|\n",
      "+---------+-----+\n",
      "\n"
     ]
    },
    {
     "name": "stderr",
     "output_type": "stream",
     "text": [
      "                                                                                \r"
     ]
    },
    {
     "name": "stdout",
     "output_type": "stream",
     "text": [
      "-------------------------------------------\n",
      "Batch: 11\n",
      "-------------------------------------------\n",
      "+---------+-----+\n",
      "|     word|count|\n",
      "+---------+-----+\n",
      "|     aaaa|    1|\n",
      "|     ola,|    1|\n",
      "|      com|    1|\n",
      "|    bem??|    1|\n",
      "|asdfinadf|    1|\n",
      "|        .|    1|\n",
      "|  dkdkddf|    1|\n",
      "|        e|    2|\n",
      "|     sim,|    1|\n",
      "|       oi|    5|\n",
      "|      vc?|    1|\n",
      "|       df|    4|\n",
      "|   dgdkdf|    1|\n",
      "|        ?|    4|\n",
      "|    aiii?|    1|\n",
      "|     tudo|    2|\n",
      "+---------+-----+\n",
      "\n"
     ]
    },
    {
     "name": "stderr",
     "output_type": "stream",
     "text": [
      "                                                                                \r"
     ]
    },
    {
     "name": "stdout",
     "output_type": "stream",
     "text": [
      "-------------------------------------------\n",
      "Batch: 12\n",
      "-------------------------------------------\n",
      "+---------+-----+\n",
      "|     word|count|\n",
      "+---------+-----+\n",
      "|     aaaa|    1|\n",
      "|     ola,|    1|\n",
      "|      com|    1|\n",
      "|    bem??|    1|\n",
      "|asdfinadf|    1|\n",
      "|        .|    8|\n",
      "|  dkdkddf|    1|\n",
      "|        e|    2|\n",
      "|     sim,|    1|\n",
      "|       oi|    5|\n",
      "|      vc?|    1|\n",
      "|       df|    4|\n",
      "|   dgdkdf|    1|\n",
      "|        ?|    4|\n",
      "|    aiii?|    1|\n",
      "|     tudo|    2|\n",
      "+---------+-----+\n",
      "\n"
     ]
    },
    {
     "name": "stderr",
     "output_type": "stream",
     "text": [
      "                                                                                \r"
     ]
    },
    {
     "name": "stdout",
     "output_type": "stream",
     "text": [
      "-------------------------------------------\n",
      "Batch: 13\n",
      "-------------------------------------------\n",
      "+---------+-----+\n",
      "|     word|count|\n",
      "+---------+-----+\n",
      "|     aaaa|    1|\n",
      "|     ola,|    1|\n",
      "|      com|    1|\n",
      "|    bem??|    1|\n",
      "|asdfinadf|    1|\n",
      "|        .|    8|\n",
      "|       ..|    1|\n",
      "|  dkdkddf|    1|\n",
      "|        e|    2|\n",
      "|     sim,|    1|\n",
      "|       oi|    5|\n",
      "|      vc?|    1|\n",
      "|       df|    4|\n",
      "|   dgdkdf|    1|\n",
      "|        ?|    4|\n",
      "|    aiii?|    1|\n",
      "|     tudo|    2|\n",
      "+---------+-----+\n",
      "\n",
      "22/08/30 12:49:16 ERROR ContextCleaner: Error cleaning shuffle 13\n",
      "java.lang.NullPointerException\n",
      "\tat org.apache.spark.MapOutputTrackerMaster.$anonfun$unregisterShuffle$1(MapOutputTracker.scala:882)\n",
      "\tat org.apache.spark.MapOutputTrackerMaster.$anonfun$unregisterShuffle$1$adapted(MapOutputTracker.scala:881)\n",
      "\tat scala.Option.foreach(Option.scala:437)\n",
      "\tat org.apache.spark.MapOutputTrackerMaster.unregisterShuffle(MapOutputTracker.scala:881)\n",
      "\tat org.apache.spark.ContextCleaner.doCleanupShuffle(ContextCleaner.scala:241)\n",
      "\tat org.apache.spark.ContextCleaner.$anonfun$keepCleaning$3(ContextCleaner.scala:202)\n",
      "\tat org.apache.spark.ContextCleaner.$anonfun$keepCleaning$3$adapted(ContextCleaner.scala:195)\n",
      "\tat scala.Option.foreach(Option.scala:437)\n",
      "\tat org.apache.spark.ContextCleaner.$anonfun$keepCleaning$1(ContextCleaner.scala:195)\n",
      "\tat org.apache.spark.util.Utils$.tryOrStopSparkContext(Utils.scala:1446)\n",
      "\tat org.apache.spark.ContextCleaner.org$apache$spark$ContextCleaner$$keepCleaning(ContextCleaner.scala:189)\n",
      "\tat org.apache.spark.ContextCleaner$$anon$1.run(ContextCleaner.scala:79)\n"
     ]
    },
    {
     "name": "stderr",
     "output_type": "stream",
     "text": [
      "                                                                                \r"
     ]
    },
    {
     "name": "stdout",
     "output_type": "stream",
     "text": [
      "-------------------------------------------\n",
      "Batch: 14\n",
      "-------------------------------------------\n",
      "+---------+-----+\n",
      "|     word|count|\n",
      "+---------+-----+\n",
      "|     aaaa|    1|\n",
      "|     ola,|    1|\n",
      "|      com|    1|\n",
      "|    bem??|    1|\n",
      "|asdfinadf|    1|\n",
      "|        .|   20|\n",
      "|       ..|    1|\n",
      "|  dkdkddf|    1|\n",
      "|        e|    2|\n",
      "|     sim,|    1|\n",
      "|       oi|    5|\n",
      "|      vc?|    1|\n",
      "|       df|    4|\n",
      "|         |    3|\n",
      "|   dgdkdf|    1|\n",
      "|        ?|    4|\n",
      "|    aiii?|    1|\n",
      "|     tudo|    2|\n",
      "+---------+-----+\n",
      "\n"
     ]
    }
   ],
   "source": [
    "query = wordCounts.writeStream.outputMode(\"complete\").format(\"console\").start()\n",
    "query.awaitTermination()"
   ]
  },
  {
   "cell_type": "code",
   "execution_count": null,
   "id": "e0f35e64-52b8-487d-b0f4-e8dd71bcbd67",
   "metadata": {},
   "outputs": [],
   "source": []
  }
 ],
 "metadata": {
  "kernelspec": {
   "display_name": "Python 3 (ipykernel)",
   "language": "python",
   "name": "python3"
  },
  "language_info": {
   "codemirror_mode": {
    "name": "ipython",
    "version": 3
   },
   "file_extension": ".py",
   "mimetype": "text/x-python",
   "name": "python",
   "nbconvert_exporter": "python",
   "pygments_lexer": "ipython3",
   "version": "3.10.4"
  }
 },
 "nbformat": 4,
 "nbformat_minor": 5
}
