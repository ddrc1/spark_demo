{
 "cells": [
  {
   "cell_type": "code",
   "execution_count": 1,
   "id": "f79d8647-ed29-4a00-b0af-32e553d3ca08",
   "metadata": {},
   "outputs": [],
   "source": [
    "import os\n",
    "import findspark\n",
    "findspark.init(os.getenv('SPARK_HOME'))\n",
    "from pyspark import SparkContext\n",
    "from pyspark.streaming import StreamingContext"
   ]
  },
  {
   "cell_type": "code",
   "execution_count": 2,
   "id": "a69a5c35-7cf7-4b62-8ba8-33bdeebdf61f",
   "metadata": {},
   "outputs": [
    {
     "name": "stderr",
     "output_type": "stream",
     "text": [
      "Setting default log level to \"WARN\".\n",
      "To adjust logging level use sc.setLogLevel(newLevel). For SparkR, use setLogLevel(newLevel).\n"
     ]
    },
    {
     "name": "stdout",
     "output_type": "stream",
     "text": [
      "22/08/29 15:02:18 WARN NativeCodeLoader: Unable to load native-hadoop library for your platform... using builtin-java classes where applicable\n"
     ]
    }
   ],
   "source": [
    "sc = SparkContext(master=\"local[2]\", appName=\"NetworkWordCount\")\n",
    "ssc = StreamingContext(sparkContext=sc, batchDuration=1)"
   ]
  },
  {
   "cell_type": "code",
   "execution_count": 3,
   "id": "9751678d-8909-46ff-80a0-f47997a989a3",
   "metadata": {},
   "outputs": [],
   "source": [
    "lines = ssc.socketTextStream(hostname=\"localhost\", port=9999)"
   ]
  },
  {
   "cell_type": "code",
   "execution_count": 4,
   "id": "d1b3a090-1e1b-42fe-9f77-a8102ce159ec",
   "metadata": {},
   "outputs": [],
   "source": [
    "words = lines.flatMap(lambda line: line.split())\n",
    "pairs = words.map(lambda word: (word, 1))\n",
    "word_counts = pairs.reduceByKey(lambda x,y: x + y)"
   ]
  },
  {
   "cell_type": "code",
   "execution_count": 5,
   "id": "6c739024-ace2-43a8-a398-275682f82dfa",
   "metadata": {},
   "outputs": [],
   "source": [
    "word_counts.pprint()"
   ]
  },
  {
   "cell_type": "code",
   "execution_count": null,
   "id": "2c0c4518-b928-488d-ab57-485f488a71a9",
   "metadata": {},
   "outputs": [],
   "source": [
    "ssc.start()"
   ]
  },
  {
   "cell_type": "code",
   "execution_count": null,
   "id": "e0f35e64-52b8-487d-b0f4-e8dd71bcbd67",
   "metadata": {},
   "outputs": [],
   "source": []
  }
 ],
 "metadata": {
  "kernelspec": {
   "display_name": "Python 3 (ipykernel)",
   "language": "python",
   "name": "python3"
  },
  "language_info": {
   "codemirror_mode": {
    "name": "ipython",
    "version": 3
   },
   "file_extension": ".py",
   "mimetype": "text/x-python",
   "name": "python",
   "nbconvert_exporter": "python",
   "pygments_lexer": "ipython3",
   "version": "3.10.4"
  }
 },
 "nbformat": 4,
 "nbformat_minor": 5
}
